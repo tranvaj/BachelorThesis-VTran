{
 "cells": [
  {
   "cell_type": "markdown",
   "id": "68da13bb-650d-408c-a8a7-46059dc41256",
   "metadata": {},
   "source": [
    "# Necessary libraries\n",
    "\n",
    "We used the following Jupyter Notebook image: cschranz/gpu-jupyter:v1.6_cuda-12.0_ubuntu-22.04 from https://github.com/iot-salzburg/gpu-jupyter\n",
    "\n",
    "Refer to https://github.com/unslothai/unsloth/tree/main?tab=readme-ov-file#installation-instructions when installing Unsloth in other environments.\n",
    "\n",
    "Unsloth should install all necessary libraries such as transformers, TRL etc."
   ]
  },
  {
   "cell_type": "code",
   "execution_count": null,
   "id": "cbd94454-4295-4ee4-95a8-e151e12e8740",
   "metadata": {
    "tags": []
   },
   "outputs": [],
   "source": [
    "!pip install torch==2.2.0 torchvision==0.17.0 torchaudio==2.2.0 --index-url https://download.pytorch.org/whl/cu121\n",
    "!pip install tensorrt\n",
    "!pip install \"unsloth[cu121-ampere-torch220] @ git+https://github.com/unslothai/unsloth.git\"\n",
    "!pip install nltk\n",
    "!pip install evaluate\n",
    "!pip install rouge_score"
   ]
  }
 ],
 "metadata": {
  "kernelspec": {
   "display_name": "Python 3 (ipykernel)",
   "language": "python",
   "name": "python3"
  },
  "language_info": {
   "codemirror_mode": {
    "name": "ipython",
    "version": 3
   },
   "file_extension": ".py",
   "mimetype": "text/x-python",
   "name": "python",
   "nbconvert_exporter": "python",
   "pygments_lexer": "ipython3",
   "version": "3.11.7"
  }
 },
 "nbformat": 4,
 "nbformat_minor": 5
}
