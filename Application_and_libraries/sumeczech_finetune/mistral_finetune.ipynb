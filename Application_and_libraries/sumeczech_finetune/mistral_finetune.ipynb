{
 "cells": [
  {
   "cell_type": "markdown",
   "id": "f4031b46",
   "metadata": {},
   "source": [
    "## Initialization of model, constants, paths etc."
   ]
  },
  {
   "cell_type": "code",
   "execution_count": 1,
   "id": "b3b847f1-f87a-481c-bbdf-30f813cf5cc9",
   "metadata": {
    "tags": []
   },
   "outputs": [
    {
     "name": "stdout",
     "output_type": "stream",
     "text": [
      "Number of GPUs available: 1\n",
      "(3957129216, 47842000896)\n"
     ]
    }
   ],
   "source": [
    "import configparser\n",
    "import torch\n",
    "\n",
    "config = configparser.ConfigParser()\n",
    "config.read('config.cfg')\n",
    "\n",
    "dataset_storage_path = config['Mistral-SC']['dataset_storage_path']\n",
    "model_storage_path = config['Mistral-SC']['model_storage_path']\n",
    "output_dir = config['Mistral-SC']['output_dir']\n",
    "libcuda_path = config['Unsloth']['libcuda_path']\n",
    "library_path = config['Unsloth']['library_path']\n",
    "\n",
    "num_gpus = torch.cuda.device_count()\n",
    "print(f\"Number of GPUs available: {num_gpus}\")\n",
    "print(torch.cuda.mem_get_info())"
   ]
  },
  {
   "cell_type": "code",
   "execution_count": 2,
   "id": "c7e4081f-db3c-41df-9d54-371d8a86294d",
   "metadata": {
    "tags": []
   },
   "outputs": [
    {
     "name": "stdout",
     "output_type": "stream",
     "text": [
      "/usr/local/nvidia/lib:/usr/local/nvidia/lib64\n",
      "/usr/local/cuda/lib64\n",
      "\n",
      "/opt/conda/bin:/opt/conda/condabin:/opt/conda/bin:/usr/local/nvidia/bin:/usr/local/cuda/bin:/usr/local/sbin:/usr/local/bin:/usr/sbin:/usr/bin:/sbin:/bin\n"
     ]
    }
   ],
   "source": [
    "import os\n",
    "os.environ[\"TRITON_LIBCUDA_PATH\"]=libcuda_path\n",
    "os.environ[\"LIBRARY_PATH\"]=library_path"
   ]
  },
  {
   "cell_type": "code",
   "execution_count": 4,
   "id": "3a2801a2-986e-441e-b3aa-4a57010a438e",
   "metadata": {
    "tags": []
   },
   "outputs": [
    {
     "name": "stdout",
     "output_type": "stream",
     "text": [
      "==((====))==  Unsloth: Fast Mistral patching release 2024.2\n",
      "   \\\\   /|    GPU: NVIDIA A40. Max memory: 44.556 GB. Platform = Linux.\n",
      "O^O/ \\_/ \\    Pytorch: 2.2.0+cu121. CUDA = 8.6. CUDA Toolkit = 12.1.\n",
      "\\        /    Bfloat16 = TRUE. Xformers = 0.0.24. FA = True.\n",
      " \"-____-\"     Free Apache license: http://github.com/unslothai/unsloth\n"
     ]
    },
    {
     "name": "stderr",
     "output_type": "stream",
     "text": [
      "2024-03-04 08:31:03.064515: E external/local_xla/xla/stream_executor/cuda/cuda_dnn.cc:9261] Unable to register cuDNN factory: Attempting to register factory for plugin cuDNN when one has already been registered\n",
      "2024-03-04 08:31:03.064590: E external/local_xla/xla/stream_executor/cuda/cuda_fft.cc:607] Unable to register cuFFT factory: Attempting to register factory for plugin cuFFT when one has already been registered\n",
      "2024-03-04 08:31:03.066231: E external/local_xla/xla/stream_executor/cuda/cuda_blas.cc:1515] Unable to register cuBLAS factory: Attempting to register factory for plugin cuBLAS when one has already been registered\n",
      "2024-03-04 08:31:03.073523: I tensorflow/core/platform/cpu_feature_guard.cc:182] This TensorFlow binary is optimized to use available CPU instructions in performance-critical operations.\n",
      "To enable the following instructions: AVX2 FMA, in other operations, rebuild TensorFlow with the appropriate compiler flags.\n",
      "2024-03-04 08:31:03.928088: W tensorflow/compiler/tf2tensorrt/utils/py_utils.cc:38] TF-TRT Warning: Could not find TensorRT\n",
      "Unsloth 2024.2 patched 32 layers with 32 QKV layers, 32 O layers and 32 MLP layers.\n"
     ]
    }
   ],
   "source": [
    "\n",
    "from unsloth import FastLanguageModel\n",
    "max_seq_length = 4096*2 # Choose any! We auto support RoPE Scaling internally!\n",
    "dtype = None # None for auto detection. Float16 for Tesla T4, V100, Bfloat16 for Ampere+\n",
    "load_in_4bit = True # Use 4bit quantization to reduce memory usage. Can be False.\n",
    "\n",
    "# 4bit pre quantized models we support for 4x faster downloading + no OOMs.\n",
    "fourbit_models = [\n",
    "    \"unsloth/mistral-7b-bnb-4bit\",\n",
    "    \"unsloth/mistral-7b-instruct-v0.2-bnb-4bit\",\n",
    "    \"unsloth/llama-2-7b-bnb-4bit\",\n",
    "    \"unsloth/llama-2-13b-bnb-4bit\",\n",
    "    \"unsloth/codellama-34b-bnb-4bit\",\n",
    "    \"unsloth/tinyllama-bnb-4bit\",\n",
    "] # More models at https://huggingface.co/unsloth\n",
    "\n",
    "model, tokenizer = FastLanguageModel.from_pretrained(\n",
    "    model_name = \"unsloth/mistral-7b-bnb-4bit\", # Choose ANY! eg teknium/OpenHermes-2.5-Mistral-7B\n",
    "    max_seq_length = max_seq_length,\n",
    "    dtype = dtype,\n",
    "    load_in_4bit = load_in_4bit,\n",
    "    # token = \"hf_...\", # use one if using gated models like meta-llama/Llama-2-7b-hf\n",
    ")\n",
    "\n",
    "model = FastLanguageModel.get_peft_model(\n",
    "    model,\n",
    "    r = 16, # Choose any number > 0 ! Suggested 8, 16, 32, 64, 128\n",
    "    target_modules = [\"q_proj\", \"k_proj\", \"v_proj\", \"o_proj\",\n",
    "                      \"gate_proj\", \"up_proj\", \"down_proj\",],\n",
    "    lora_alpha = 16,\n",
    "    lora_dropout = 0, # Supports any, but = 0 is optimized\n",
    "    bias = \"none\",    # Supports any, but = \"none\" is optimized\n",
    "    use_gradient_checkpointing = True,\n",
    "    random_state = 3407,\n",
    "    use_rslora = False,  # We support rank stabilized LoRA\n",
    "    loftq_config = None, # And LoftQ\n",
    ")"
   ]
  },
  {
   "cell_type": "code",
   "execution_count": 5,
   "id": "1aa67c31-46e9-4b92-8a71-23acd5d2815d",
   "metadata": {},
   "outputs": [],
   "source": [
    "alpaca_prompt = \"\"\"Below is an instruction that describes a task, paired with an input that provides further context. Write a response that appropriately completes the request.\n",
    "\n",
    "### Instruction:\n",
    "{}\n",
    "\n",
    "### Input:\n",
    "{}\n",
    "\n",
    "### Response:\n",
    "{}\"\"\"\n",
    "\n",
    "EOS_TOKEN = tokenizer.eos_token\n",
    "def formatting_prompts_func(examples):\n",
    "    #instructions = examples[\"instruction\"]\n",
    "    instruction = \"Summarize the following text:\"\n",
    "    inputs       = examples[\"text\"]\n",
    "    outputs      = examples[\"abstract\"]\n",
    "    instructions = [instruction for _ in range(len(inputs))]\n",
    "    texts = []\n",
    "    for input, output in zip(inputs, outputs):\n",
    "        # Must add EOS_TOKEN, otherwise your generation will go on forever!\n",
    "        text = alpaca_prompt.format(instruction, input, output) + EOS_TOKEN\n",
    "        texts.append(text)\n",
    "    return { \"instruction\": instructions, \"input\": inputs, \"output\": outputs,  \"text\" : texts, }\n",
    "pass\n",
    "\n",
    "from datasets import load_dataset\n",
    "data_files = {\"train\":f\"{dataset_storage_path}/sumeczech-1.0-train.jsonl\",\n",
    "                \"test\":f\"{dataset_storage_path}/sumeczech-1.0-test.jsonl\",\n",
    "                \"validation\":f\"{dataset_storage_path}/sumeczech-1.0-dev.jsonl\"}\n",
    "dataset = load_dataset(\"json\", data_files=data_files)\n",
    "train_dataset = dataset[\"train\"]\n",
    "#test_dataset = dataset.split(\"test\")\n",
    "validation_dataset = dataset[\"validation\"]\n",
    "train_dataset = train_dataset.map(formatting_prompts_func, batched = True).select_columns([\"input\", \"output\", \"text\", \"instruction\"])\n",
    "validation_dataset = validation_dataset.map(formatting_prompts_func, batched = True).select_columns([\"input\", \"output\", \"text\", \"instruction\"])\n"
   ]
  },
  {
   "cell_type": "code",
   "execution_count": 6,
   "id": "5a4a8e47-f4fd-475e-aabd-9e732741f95e",
   "metadata": {
    "tags": []
   },
   "outputs": [
    {
     "name": "stdout",
     "output_type": "stream",
     "text": [
      "{'input': 'Kdy jste slyšela jako cizinka slovo Ostrava poprvé?\\nO Ostravě jsem poprvé slyšela v Českých Budějovicích, byla jsem tam asi rok v angažmá. Studovali jsme Čajkovského balet Romeo a Julie v choreografii Libuše Králové, tehdejší šéfky ostravského baletu. A tam paní Králová nabídla mně a mému tanečnímu partnerovi Rodionu Zelenkovovi možnost konkurzu na sólový pár do Ostravy. Konkurz jsme udělali a nastoupili do Ostravy jako solisté baletu.\\nPocházíte z Ruska…\\nNarodila jsem se v ruském Uljanovsku, vyrůstala na Ukrajině, kde měl tatínek práci, a už na Ukrajině s maminkou zůstali. Sama jsem se přihlásila v sedmi letech do baletní školy, tanec jsem milovala odmalička, pořád jsem před zrcadlem pózovala a tančila. Moje maminka a tatínek také tančili, ale pak změnili povolání. Jednou do našeho městečka přijel kyjevský klasický balet. Bydleli jsme v centru města a ve velkém domě kultury se ta představení odehrávala. Okna šaten byla na straně našeho dvorku pro děti ,a my děti koukali do těch oken a obdivovali baletní kostýmy, nejvíce balerín. Byly tak krasně barevné! Ani jsem netušila, že za dva roky pojedu na konkurz do Kyjevského státního choreografického učiliště a po osmi letech nastoupím zrovna do toho baletu, který navštívil naše město.Tři roky jsem tančila v Kyjevě a pak přijela do České republiky.\\nJak jste si zvykla na toto město, které má svou specifickou atmosféru?\\nOstravu mám nesmírně ráda, je to město, ve kterém jsem strávila nejdelší část svého života. Hodně jsem na Ostravu zvyklá, na její ulice, architekturu, na její lidi a dokonce i na ostravský vzduch…\\nJako sólistka baletu Národního divadla moravskoslezského působíte dvacet let, kde jste vytvořila řadu krásných rolí. Které postavy se vám při této příležitosti nejvíce vybavují?\\nMám rada všechny své role, ale třeba hodně vzpomínám na Kitri z baletu Don Quijote, Giselle (Giselle), Annu Kareninu (Anna Karenina), Ninu (Maškaráda), Aeginu (Spartakus), Margaret (Dáma s kaméliemi), Dezdemonu (Othello), Odettu-Odilii (Labutí jezero), Mašu (Louskáček), Sylfidu (La Sylphide), Sněhurku (Sněhurka a sedm trpaslíku), Ester (Purim), Paquitu (Paquita), Balady (Balady), Černou dívku (Po zarostlém chodníčku) a mnoho mnoho dalších.\\nCo považujete na své práci za nejtěžší?\\nNejtěžší je pravidelný každodenní trénink. Každé ráno musíme přijít do divadla a začít tréninkem, který trvá hodinu, někdy i více. Jsou to pořád stejně prvky, nezbytné pro práci tanečníka. Pak už začíná to zajímavé, zkoušky, na kterých vytváříte konkrétní role a zdokonalujete svojí taneční techniku. A poté přichází vrchol baletní představení, ve kterém prožíváte jakýkoliv příběh naplno se vším všudy.\\nJste pedagožkou na Janáčkově konzervatoři a Gymnáziu v Ostravě. Baví vás tato profese?\\nUčím ráda, obzvláště když to studenty baví. Snažím se jim přiblížit vše, co moje krásné povolání obnáší. Baví mě pozorovat, jak mi studenti doslova rostou před očima, jak si vylepšují techniku, výraz a jak roste jejich láska k baletu.\\nPrý vaše srdce skutečně bije pro Ostravu? Proč?\\nJak jsem už řekla, v Ostravě jsem nejdelší část svého života, v Ostravě se mi narodil můj syn, takže jeho srdce také bije pro Ostravu, je to jeho rodné město a moje už teď taky. Miluji ostravské publikum, které mi na začátku uvěřilo a snad věří dodnes. Prkna ostravského divadla mě vychovala jako sólistku baletu. Děkuji ti, Ostravo, za všechno! Za všechny dary malé i velké, které ty mi dáváš. Moc si toho vážím, a proto i já dávám své srdce tobě.\\nOLGA BORISOVÁ-PRAČIKOVÁse narodila v ruském Uljanovsku. Absolvovala Kyjevské státní choreografické učiliště a Kyjevskou národní univerzitu kultury a umění. Od roku 1995 je sólistkou baletu NDM v Ostravě. Na jevišti vytvořila řadu postav v baletních představeních Don Quijote, Giselle, Anna Karenina, Maškaráda, Spartakus, Dáma s kaméliemi, Othello, Labutí jezero, Louskáček, La Sylphide, Sněhurka a sedm trpaslíku a v mnoha dalších. Získala řadu ocenění, hostovala v zahraničí, pedagogicky působí na Janáčkově konzervatoři a Gymnáziu v Ostravě. Vdaná, má jednoho syna.\\nNestýská se vám někdy po rodné vlasti?\\nSamozřejmě že se mi stýská po Ukrajině, kde jsem vyrůstala. Jsou tam mí rodiče a přátelé. Ale vybrala jsem tady tuto cestu a vůbec toho nelituji…\\nPokud vím, váš manžel je také cizinec, jak se mu u nás žije?\\nMůj manžel je Ukrajinec, já jsem ale ruská, ale to je skoro totéž. Oba máme rádi Ostravu a vůbec Českou republiku, to je teď náš domov, který milujeme, ctíme jeho tradice a kulturu.\\nA co váš syn? Jde také ve vašich uměleckých šlépějích?\\nSyn vůbec není spojen s baletem. Hraje fotbal, který strašně miluje. Fandím mu, ale jen na dálku, na zápasy chodí pravidelně manžel, je pyšný na svého syna a já také.\\nMáte ještě nějakou vysněnou roli?\\nMám dvě role, které bych ještě chtěla zatančit, a to v baletu Bajadéra a také Manon, a ještě toužím znovu ztvárnit Annu Kareninu.\\nMyslíte si, že se Ostrava stane i vaším domovem i v příštích letech?\\nMyslím si, že Ostrava zůstane mým domovem až do posledního dne mého života…', 'output': 'Pračiková žije v Ostravě už téměř dvacet let a toto město si doslova zamilovala.', 'text': 'Below is an instruction that describes a task, paired with an input that provides further context. Write a response that appropriately completes the request.\\n\\n### Instruction:\\nSummarize the following text:\\n\\n### Input:\\nKdy jste slyšela jako cizinka slovo Ostrava poprvé?\\nO Ostravě jsem poprvé slyšela v Českých Budějovicích, byla jsem tam asi rok v angažmá. Studovali jsme Čajkovského balet Romeo a Julie v choreografii Libuše Králové, tehdejší šéfky ostravského baletu. A tam paní Králová nabídla mně a mému tanečnímu partnerovi Rodionu Zelenkovovi možnost konkurzu na sólový pár do Ostravy. Konkurz jsme udělali a nastoupili do Ostravy jako solisté baletu.\\nPocházíte z Ruska…\\nNarodila jsem se v ruském Uljanovsku, vyrůstala na Ukrajině, kde měl tatínek práci, a už na Ukrajině s maminkou zůstali. Sama jsem se přihlásila v sedmi letech do baletní školy, tanec jsem milovala odmalička, pořád jsem před zrcadlem pózovala a tančila. Moje maminka a tatínek také tančili, ale pak změnili povolání. Jednou do našeho městečka přijel kyjevský klasický balet. Bydleli jsme v centru města a ve velkém domě kultury se ta představení odehrávala. Okna šaten byla na straně našeho dvorku pro děti ,a my děti koukali do těch oken a obdivovali baletní kostýmy, nejvíce balerín. Byly tak krasně barevné! Ani jsem netušila, že za dva roky pojedu na konkurz do Kyjevského státního choreografického učiliště a po osmi letech nastoupím zrovna do toho baletu, který navštívil naše město.Tři roky jsem tančila v Kyjevě a pak přijela do České republiky.\\nJak jste si zvykla na toto město, které má svou specifickou atmosféru?\\nOstravu mám nesmírně ráda, je to město, ve kterém jsem strávila nejdelší část svého života. Hodně jsem na Ostravu zvyklá, na její ulice, architekturu, na její lidi a dokonce i na ostravský vzduch…\\nJako sólistka baletu Národního divadla moravskoslezského působíte dvacet let, kde jste vytvořila řadu krásných rolí. Které postavy se vám při této příležitosti nejvíce vybavují?\\nMám rada všechny své role, ale třeba hodně vzpomínám na Kitri z baletu Don Quijote, Giselle (Giselle), Annu Kareninu (Anna Karenina), Ninu (Maškaráda), Aeginu (Spartakus), Margaret (Dáma s kaméliemi), Dezdemonu (Othello), Odettu-Odilii (Labutí jezero), Mašu (Louskáček), Sylfidu (La Sylphide), Sněhurku (Sněhurka a sedm trpaslíku), Ester (Purim), Paquitu (Paquita), Balady (Balady), Černou dívku (Po zarostlém chodníčku) a mnoho mnoho dalších.\\nCo považujete na své práci za nejtěžší?\\nNejtěžší je pravidelný každodenní trénink. Každé ráno musíme přijít do divadla a začít tréninkem, který trvá hodinu, někdy i více. Jsou to pořád stejně prvky, nezbytné pro práci tanečníka. Pak už začíná to zajímavé, zkoušky, na kterých vytváříte konkrétní role a zdokonalujete svojí taneční techniku. A poté přichází vrchol baletní představení, ve kterém prožíváte jakýkoliv příběh naplno se vším všudy.\\nJste pedagožkou na Janáčkově konzervatoři a Gymnáziu v Ostravě. Baví vás tato profese?\\nUčím ráda, obzvláště když to studenty baví. Snažím se jim přiblížit vše, co moje krásné povolání obnáší. Baví mě pozorovat, jak mi studenti doslova rostou před očima, jak si vylepšují techniku, výraz a jak roste jejich láska k baletu.\\nPrý vaše srdce skutečně bije pro Ostravu? Proč?\\nJak jsem už řekla, v Ostravě jsem nejdelší část svého života, v Ostravě se mi narodil můj syn, takže jeho srdce také bije pro Ostravu, je to jeho rodné město a moje už teď taky. Miluji ostravské publikum, které mi na začátku uvěřilo a snad věří dodnes. Prkna ostravského divadla mě vychovala jako sólistku baletu. Děkuji ti, Ostravo, za všechno! Za všechny dary malé i velké, které ty mi dáváš. Moc si toho vážím, a proto i já dávám své srdce tobě.\\nOLGA BORISOVÁ-PRAČIKOVÁse narodila v ruském Uljanovsku. Absolvovala Kyjevské státní choreografické učiliště a Kyjevskou národní univerzitu kultury a umění. Od roku 1995 je sólistkou baletu NDM v Ostravě. Na jevišti vytvořila řadu postav v baletních představeních Don Quijote, Giselle, Anna Karenina, Maškaráda, Spartakus, Dáma s kaméliemi, Othello, Labutí jezero, Louskáček, La Sylphide, Sněhurka a sedm trpaslíku a v mnoha dalších. Získala řadu ocenění, hostovala v zahraničí, pedagogicky působí na Janáčkově konzervatoři a Gymnáziu v Ostravě. Vdaná, má jednoho syna.\\nNestýská se vám někdy po rodné vlasti?\\nSamozřejmě že se mi stýská po Ukrajině, kde jsem vyrůstala. Jsou tam mí rodiče a přátelé. Ale vybrala jsem tady tuto cestu a vůbec toho nelituji…\\nPokud vím, váš manžel je také cizinec, jak se mu u nás žije?\\nMůj manžel je Ukrajinec, já jsem ale ruská, ale to je skoro totéž. Oba máme rádi Ostravu a vůbec Českou republiku, to je teď náš domov, který milujeme, ctíme jeho tradice a kulturu.\\nA co váš syn? Jde také ve vašich uměleckých šlépějích?\\nSyn vůbec není spojen s baletem. Hraje fotbal, který strašně miluje. Fandím mu, ale jen na dálku, na zápasy chodí pravidelně manžel, je pyšný na svého syna a já také.\\nMáte ještě nějakou vysněnou roli?\\nMám dvě role, které bych ještě chtěla zatančit, a to v baletu Bajadéra a také Manon, a ještě toužím znovu ztvárnit Annu Kareninu.\\nMyslíte si, že se Ostrava stane i vaším domovem i v příštích letech?\\nMyslím si, že Ostrava zůstane mým domovem až do posledního dne mého života…\\n\\n### Response:\\nPračiková žije v Ostravě už téměř dvacet let a toto město si doslova zamilovala.</s>', 'instruction': 'Summarize the following text:'}\n"
     ]
    }
   ],
   "source": [
    "print(validation_dataset[0])"
   ]
  },
  {
   "cell_type": "code",
   "execution_count": 7,
   "id": "726a1a0a-b594-4066-82b8-c193290b9787",
   "metadata": {},
   "outputs": [],
   "source": [
    "from trl import SFTTrainer\n",
    "from transformers import TrainingArguments\n",
    "\n",
    "trainer = SFTTrainer(\n",
    "    model = model,\n",
    "    tokenizer = tokenizer,\n",
    "    train_dataset = train_dataset,\n",
    "    eval_dataset = validation_dataset,\n",
    "    dataset_text_field = \"text\",\n",
    "    max_seq_length = max_seq_length,\n",
    "    dataset_num_proc = 2,\n",
    "    packing = False, \n",
    "    args = TrainingArguments(\n",
    "        #eval\n",
    "        fp16_full_eval = True,\n",
    "        per_device_eval_batch_size = 2,\n",
    "        eval_accumulation_steps = 4,\n",
    "        evaluation_strategy = \"steps\",\n",
    "        eval_steps = 27100,\n",
    "\n",
    "        #default\n",
    "        per_device_train_batch_size = 8,\n",
    "        gradient_accumulation_steps = 4,\n",
    "        warmup_steps = 100,\n",
    "        num_train_epochs=1,\n",
    "        learning_rate = 2e-4,\n",
    "        fp16 = not torch.cuda.is_bf16_supported(),\n",
    "        bf16 = torch.cuda.is_bf16_supported(),\n",
    "        logging_steps = 200,\n",
    "        optim = \"adamw_8bit\",\n",
    "        weight_decay = 0.01,\n",
    "        lr_scheduler_type = \"linear\",\n",
    "        seed = 3407,\n",
    "        output_dir = output_dir,\n",
    "\n",
    "        #save strategy\n",
    "        save_strategy = \"steps\",\n",
    "        save_steps = 200,\n",
    "        save_total_limit=20\n",
    "    ),\n",
    ")\n"
   ]
  },
  {
   "cell_type": "markdown",
   "id": "26cd0935",
   "metadata": {},
   "source": [
    "## Training and Saving"
   ]
  },
  {
   "cell_type": "code",
   "execution_count": null,
   "id": "899129e1-f9b4-491b-9b2d-986fbbf8b5db",
   "metadata": {},
   "outputs": [],
   "source": [
    "trainer_stats = trainer.train(resume_from_checkpoint = True) # remove resume_from_checkpoint to start from scratch\n",
    "model.save_pretrained(model_storage_path)"
   ]
  }
 ],
 "metadata": {
  "kernelspec": {
   "display_name": "Python 3 (ipykernel)",
   "language": "python",
   "name": "python3"
  },
  "language_info": {
   "codemirror_mode": {
    "name": "ipython",
    "version": 3
   },
   "file_extension": ".py",
   "mimetype": "text/x-python",
   "name": "python",
   "nbconvert_exporter": "python",
   "pygments_lexer": "ipython3",
   "version": "3.11.7"
  }
 },
 "nbformat": 4,
 "nbformat_minor": 5
}
