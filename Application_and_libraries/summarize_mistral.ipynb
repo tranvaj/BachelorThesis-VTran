{
 "cells": [
  {
   "cell_type": "markdown",
   "id": "f61df9b8-b354-412d-abe2-2f6e8927aa12",
   "metadata": {},
   "source": [
    "Modify the paths and constants if needed. If sudo is not allowed, you need to set \"libcuda_path\" and \"library_path\" manually if they are not correct. \n",
    "Use \"tranv/mistral7b-sumeczech-qlora\" for newspaper article summaries\n",
    "\n",
    "Then run the cell below to load necessary methods and libraries"
   ]
  },
  {
   "cell_type": "code",
   "execution_count": 1,
   "id": "452bb9dc-56b5-419b-b57a-0d6dba631967",
   "metadata": {
    "tags": []
   },
   "outputs": [
    {
     "name": "stderr",
     "output_type": "stream",
     "text": [
      "2024-04-04 00:07:31.456294: E external/local_xla/xla/stream_executor/cuda/cuda_dnn.cc:9261] Unable to register cuDNN factory: Attempting to register factory for plugin cuDNN when one has already been registered\n",
      "2024-04-04 00:07:31.456401: E external/local_xla/xla/stream_executor/cuda/cuda_fft.cc:607] Unable to register cuFFT factory: Attempting to register factory for plugin cuFFT when one has already been registered\n",
      "2024-04-04 00:07:31.458996: E external/local_xla/xla/stream_executor/cuda/cuda_blas.cc:1515] Unable to register cuBLAS factory: Attempting to register factory for plugin cuBLAS when one has already been registered\n",
      "2024-04-04 00:07:31.471942: I tensorflow/core/platform/cpu_feature_guard.cc:182] This TensorFlow binary is optimized to use available CPU instructions in performance-critical operations.\n",
      "To enable the following instructions: AVX2 FMA, in other operations, rebuild TensorFlow with the appropriate compiler flags.\n",
      "2024-04-04 00:07:33.437478: W tensorflow/compiler/tf2tensorrt/utils/py_utils.cc:38] TF-TRT Warning: Could not find TensorRT\n",
      "[nltk_data] Downloading package punkt to /home/jovyan/nltk_data...\n",
      "[nltk_data]   Package punkt is already up-to-date!\n"
     ]
    },
    {
     "name": "stdout",
     "output_type": "stream",
     "text": [
      "Number of GPUs available: 1\n",
      "(20791492608, 20937965568)\n",
      "==((====))==  Unsloth: Fast Mistral patching release 2024.3\n",
      "   \\\\   /|    GPU: NVIDIA A100 80GB PCIe MIG 2g.20gb. Max memory: 19.5 GB. Platform = Linux.\n",
      "O^O/ \\_/ \\    Pytorch: 2.2.0+cu121. CUDA = 8.0. CUDA Toolkit = 12.1.\n",
      "\\        /    Bfloat16 = TRUE. Xformers = 0.0.24. FA = True.\n",
      " \"-____-\"     Free Apache license: http://github.com/unslothai/unsloth\n"
     ]
    },
    {
     "name": "stderr",
     "output_type": "stream",
     "text": [
      "Unsloth 2024.3 patched 32 layers with 32 QKV layers, 32 O layers and 32 MLP layers.\n"
     ]
    }
   ],
   "source": [
    "model_summarize_path = \"tranv/mistral7b-poc-qlora\" #tranv/mistral7b-sumeczech-qlora\n",
    "mistral_tokenizer_path = \"unsloth/mistral-7b-bnb-4bit\"\n",
    "USE_UNSLOTH=True #NOTE: Not using Unsloth affects the generated summary\n",
    "SUDO=False\n",
    "import os\n",
    "\n",
    "if not SUDO:\n",
    "    libcuda_path = \"/usr/local/cuda/compat\" #contains file libcuda.so\n",
    "    library_path = \"/usr/local/cuda/lib64\" #contains files like libcublas.so, libcufile.so...\n",
    "\n",
    "    os.environ[\"TRITON_LIBCUDA_PATH\"]=libcuda_path\n",
    "    os.environ[\"LIBRARY_PATH\"]=library_path\n",
    "\n",
    "from unsloth import FastLanguageModel\n",
    "from transformers import AutoModelForCausalLM\n",
    "from transformers import AutoTokenizer\n",
    "from transformers import BitsAndBytesConfig\n",
    "\n",
    "from peft import AutoPeftModelForCausalLM, PeftModel\n",
    "from transformers import AutoTokenizer\n",
    "\n",
    "import json\n",
    "import torch\n",
    "import nltk\n",
    "import re\n",
    "from transformers import pipeline\n",
    "\n",
    "nltk.download('punkt')\n",
    "\n",
    "num_gpus = torch.cuda.device_count()\n",
    "print(f\"Number of GPUs available: {num_gpus}\")\n",
    "print(torch.cuda.mem_get_info())\n",
    "\n",
    "\n",
    "max_seq_length = 8192 \n",
    "dtype = None # None for auto detection. Float16 for Tesla T4, V100, Bfloat16 for Ampere+\n",
    "load_in_4bit = True\n",
    "if USE_UNSLOTH:\n",
    "    model, tokenizer = FastLanguageModel.from_pretrained(\n",
    "        model_name = model_summarize_path, # YOUR MODEL YOU USED FOR TRAINING\n",
    "        max_seq_length = max_seq_length,\n",
    "        dtype = dtype,\n",
    "        load_in_4bit = load_in_4bit,\n",
    "    )\n",
    "    FastLanguageModel.for_inference(model) # Enable native 2x faster inference\n",
    "else:\n",
    "    model = AutoPeftModelForCausalLM.from_pretrained(\n",
    "        model_summarize_path, # YOUR MODEL YOU USED FOR TRAINING\n",
    "        load_in_4bit = load_in_4bit,\n",
    "    )\n",
    "    tokenizer = AutoTokenizer.from_pretrained(mistral_tokenizer_path)\n",
    "\n",
    "def clean_text(text):\n",
    "    return text.replace(\"-\\n\",\"\").replace('\\r', ' ').replace('\\n', ' ')\n",
    "\n",
    "def remove_enumeration(text):\n",
    "    pattern = r'^\\s*\\d+\\.\\s*'\n",
    "    cleaned_lines = [re.sub(pattern, '', line) for line in text.split('\\n')]\n",
    "    return '\\n'.join(cleaned_lines)    \n",
    "\n",
    "def mistral_prompt(text):\n",
    "    alpaca_prompt = \"\"\"Below is an instruction that describes a task, paired with an input that provides further context. Write a response that appropriately completes the request.\n",
    "\n",
    "### Instruction:\n",
    "{}\n",
    "\n",
    "### Input:\n",
    "{}\n",
    "\n",
    "### Response:\n",
    "{}\"\"\"\n",
    "    text = alpaca_prompt.format(\"Summarize the following text:\", text, \"\")\n",
    "    return text\n",
    "\n",
    "def mistral_summarize_text(text, model, tokenizer, max_new_tokens=512, truncate=True, text_clean=True, **kwargs):\n",
    "    max_input_length = max_seq_length\n",
    "    prompt = mistral_prompt(clean_text(text))\n",
    "    inputs = tokenizer([prompt], max_length=max_input_length , truncation=True, return_tensors = \"pt\").to(\"cuda\")\n",
    "    \n",
    "    if inputs[\"input_ids\"].size(1) >= max_input_length and truncate: #if too large truncate\n",
    "        decoded = tokenizer.batch_decode(inputs[\"input_ids\"])\n",
    "        new_article = f\"{decoded[0]}\\n### Response:\\n\" \n",
    "        inputs = tokenizer([new_article], return_tensors = \"pt\").to(\"cuda\")\n",
    "        print(\"Text too long, truncating.\")\n",
    "        \n",
    "    outputs = model.generate(**inputs, max_new_tokens = max_new_tokens, **kwargs)\n",
    "    result = tokenizer.batch_decode(outputs, skip_special_tokens=True)\n",
    "    res_split = result[0].split(\"### Response:\")\n",
    "    return res_split[len(res_split)-1].replace(\"\\n\",\"\")"
   ]
  },
  {
   "cell_type": "markdown",
   "id": "314fc287-f396-4b51-8d8c-5ab3828e352e",
   "metadata": {},
   "source": [
    "The text which is to be summarized:"
   ]
  },
  {
   "cell_type": "code",
   "execution_count": 2,
   "id": "a2ceec0e-8d06-43dc-94b9-b6d7f3a5c1ec",
   "metadata": {
    "tags": []
   },
   "outputs": [],
   "source": [
    "text = \"\"\"Ročník XI.\\nV Domažlicích, dne 2. září 1882.\\nČíslo 36.\\nPOSEL OD ČERCHOVA,\\nDomažlický týdenník pro zájmy politické, obecné a spolkové.\\nDopisy, inseráty a předplatné peníze buďtež zasílány redakci franko.\\nReklamace nezapečetěné se nefrankují. Dopisy bez podpisu se nepřijímají, ruko-\\nVychází každou sobotu o 4. hodině odpoledne, v knihkupectví Jiřího Prunara na\\nČtvrtletně:\\nnáměstí a stojí:\\npisy se nevracejí. Plat inserátů obnáší za řádku třísloupcovou poprvé 3 kr., za každé\\nPoštovní zásylkou:\\nPro Domažlice:\\nza hranice . . 1 zl. 33 kr.\\nnásledující uveřejnění 2 kr. a platí se hned při objednání.\\nčtvrtletně . . 1 zl. 20 kr.\\nzl.\\n1\\ndo Ameriky . . 1 „ 46 „\\nčtvrtletně . . . .\\nJednotlivá čísla stojí 10 kr.\\npůlletně . . 2 „ 40 „\\n. . . . 2\\npůlletně\\nDonáška do domu 6 kr.\\nročně . . . 4 „ 80 „\\nročně . . . . . 4\\nad\\na\\ns\\náno\\njed\\nn\\nrick\\nm\\nosle\\nDle nové organisace armády rakouské bude\\nstav pěchoty upraven nyní na 4 stupně a sice: Stav v\\nmíru normální s 3 důstojníky a 83 muži pro jednot-\\nlivou setninu; stav v míru snížený s 3 důstojníky a\\n68 muži; stav v míru zvýšený s 3 důstojníky a 128\\nmuži a konečně plný stav válečný s 4 důstojníky a\\n232 muži po setnině. Stav válečný setniny doplňo-\\nvací čítati bude 4 důstojníky a 232 muže. V stavu\\npokojném obsahovati bude jedenkaždý pluk pěchoty\\n60 důstojníků a 1294 muže, zvýšen na míru váleč-\\nnou, čítati bude (včetně štábní četu pěchotní) 92\\ndůstojníky a 4518 m. Jedenkaždý z 32 praporů pol-\\nních myslivců v době pokoje o 15 důstojnících a\\n363 mužích rozmnoží se v míře válečné na 26 dů-\\nstojníků a 1205 mužů. U myslivců císařských roz-\\nšíří se stav válečný na 271 důstojníků a 12.138\\nmužů proti 183 důstojníkům a 3348 mužům v době\\npokoje. Posádka v zemích obsazených a v Dalmacii\\nskládati se bude od 1. ledna budoucího roku z 51\\npraporu pěchoty, ze 6 praporů polních myslivců a\\nkonečně z 1 a 10 praporů myslivců císařských.\\nRakouští vojáci v Egyptě zajati. Osudná ne-\\nhoda potkala několik důstojníků a námořníků ra-\\nkousko-uherské dělové lodi „Neutilus.“ Rakušané ti\\noctli se v zajetí egyptském v Abukiru. „Neutilus“\\nplul kolem Abukiru a když spatřena byla bílá vlajka\\nna baštách, domnívali se na lodi, že jest to vlajka\\nparlamentární, že v Abukiru něčeho si přejí a z té\\npříčiny odrazili v člunu od velké lodi jeden námořní\\ndůstojník, lodní lékař dr. Kam. Theumer, námořní\\nkadet, poddůstojník a 8 námořníků. Egyptský velitel\\nv Abukiru pokládal patrně omylem Rakušany za\\nAngličany, „Neutilus“ za anglickou loď a nedal se\\nžádným ujišťováním přesvědčit. Zabral člun a zajal\\nRakušany, jež kázal uvěznit v kazematech pevnostních.\\nCisařská rodina zavítá do Terstu v září a po-\\nbude tam od 17—19. K uvítání císaře dějí se roz-\\nsáhlé přípravy a bude uspořádáno osvětlení města,\\nohňostroje a osvětlení přístavu.\\nMaršálek Fuad paša přijede se štábními dů-\\nstojníky Nazim bejem a Zeki bejem přes Varnu do\\nVídně odevzdat císaři rakouskému velký kordon řádu\\nNišan Imtiaz, jejž mu sultán udělil.\\nS odvodem v Bosně a Hercegovině nejde to\\nFeuilleton.\\nIdylla.\\nNapsal Tuhošťský.\\nNa úbočí horském rozkládá se malá víska, jejíž rudé\\nstřechy malebně vynikají z bujné zeleně hojného stromoví.\\nStříbrolesklá střecha nevysoké vížky vypíná se nad kostelí-\\nkem uprostřed návsi umístěným. Na počátku vsi, u silnice,\\nrozkládá se nádherná zahrada, obkličujíc starobylou zámeckou\\nbudovu. Kolem zahrady vystupuje po mírném svahu úpravná\\ncesta k pěknému statku, jehož vysoká lomenice svědčí, že\\nnezdobí příbytek nouze. Bujná zeleň obtáčí a zakrývá stavení\\naž po samou střechu, tak že jest podobno veliké besídce.\\nStatný muž a žena s děckem vycházejí ze statku. Tou\\ndobou otevírají se také dvéře zámecké zahrady a stará dáma\\nočekává příchozí, aby se stala kmotrou mladé obča ky, která\\ndnes poprvé nešena v sídlo věčného smilování .. ..\\nRůžena Podhajských vyrůstala v dívku plnou něhy. Oba\\nrodičové s úzkostlivou péčí dbali toho, aby žádné hrubé slovo\\nnedotklo se jejího sluchu, aby žádným špatným příkladem\\nnebylo útlé její srdce otupeno. Něžná kvítka rozsáhlé zahrady\\na blízkých lučin a zpěvní okřídlenci byli jí nejmilejšími spo-\\nlečníky hned od prvních let blahého dětství. V klidném zá-\\ntiší vyrůstala skromně, a otevřela-li svá krásná modrá očka,\\nzastíněná dlouhými, černými brvami, bylo lze celou její jemnou\\nduši z nich vyčísti; leč sama taktéž záhy dovedla z pohledu\\npoznati přání každého. Náleželať k oněm vzácným bytostem,\\ns nimiž se lze dorozuměti beze slov.\\nZřídka opouštěla otcův statek, jen tehda, šla-li do ko-\\nposud dle přání. Při odvodu v Bileči, Stolci a Gacku\\nmělo se odvésti 400 branců, ale dostavilo se jich\\nvelmi málo. Vojsko prohledalo celý okres, ale schy-\\ntalo jenom 150 mladíků; ostatní prchli. Oni, byvše\\ndo Gacka přivedeni, zdráhali se před odvodní komisí\\nudati svoje jmeno, stav, bydliště a j. Tvrdošijnější\\nse stavěli na odpor, aby povolnější přiměli též k\\nstejnému počínání. Bylo posláno pro oddíl pluku\\nFilipoviče a hrozilo se brancům zbraní, pakli nepo-\\nslechnou. Při odvodu bylo vybráno schopných pouze\\n21 a ti byli odvedeni do Mostaru. Večer na to pře-\\npadla četa Stojana Kovačeviče přední rakouské stráže\\nu Bileče a allarmovala celou posádku. Když odstu-\\npovala, poslán za ní nocí prapor myslivců, kterýž\\nstřílev celou noc do větru, na úsvitě se vrátil.\\nVálečná akce v Egyptě jest již v plném proudu\\na byla již také anglickou vládou evropským velmo-\\ncem úřadně ohlášena. Z dosavadních pohybů vojska\\nanglického vysvítá zcela patrně, že chtějí Agličané\\ndocíliti spojení s indickým svým vojskem, kteréž od\\nSuezu postupuje a proto ustanovena Ismalie na prů-\\nplavu Suezském za shromaždiště anglických vojen-\\nských sborů, kteréž dílem od Port-Saidu, dílem od\\nSuezu postupují a k tomu určeny jsou, aby provedly\\noperaci směrem na Kahýru. Indické vojsko sestává\\nze dvou brigád, sestavených ze dvou anglických a\\npěti indických pluků pěchoty po 7—800 mužích, 4\\nbaterií a 2 indických pluků jízdy po 550 koních,\\núhrnem asi 9000 bojovníků, tak že tam bude míti\\nanglický velitel celkem asi 23.000 mužů k disposici.\\nProti této moci čelí u Tel-el-Kebiru v mohutných\\nopevněních egyptské vojsko, čítající asi 30.000 mužů,\\njemuž uloženo jest, chrániti a v moci držeti silnici\\ndo Kahýry vedoucí.\\nDle novějších zpráv se všeobecně připouští, že\\nanglická a indická vláda nesnáze v Egyptě podce-\\nňovaly. Z Anglie a Indie musejí se poslati do Egypta\\nposily. Všecky středomořské posádky pošlou tam\\njednotlivé volné oddíly vojska.\\nWoolwichská zbrojnice dostala rozkaz, aby bez\\nodkladu vypravila do Egyptu 36 oblehacích děl roz-\\nličného kalibru a 1136 dělostřelců.\\nDle zprávy „Golosu“ z Beyrutu jest tam ve-\\nškeré obyvatelstvo bez rozdílu vyznání rozhořčeno\\nstelíka, anebo ku své kmotře — do zámku. Zámek nevynikal\\nničím. Obydlí nalezala se jen v přízemí a byla opatřena sta-\\nromodním nábytkem; anať majitelka chtěla vše ponechati v\\nten způsob, v jakém byla zažila léta dětství, přežila smrť\\nobou rodičů a přála sobě také svůj život mezi známým ná-\\nbytkem ukončiti. Často sedávala v zahradě s Růženou a vy-\\npravovala jí upomínky ze svého mládí. A nejeden bolný vzdech\\nvyloudil se děvčeti při vzpomínce, že také ona bude jednou\\nsedati samotna před domkem, v němž vyrostla, aniž by více\\nhlas otce neb matky k ní zazníval . . .\\nŽivot na zámku byl jednotvárný, jedině o prázdninách\\nnavštěvoval svou tetu sestřenec, sirotek. Tu pak Růžena\\nvelmi nerada na zámek chodila, byla děcko stydlivé a neroz-\\numěla žertům, kterýmiž se mladík ten rád s ní bavil.\\nTak dospěla dvanáctého roku a rodiče pomýšleli na to,\\naby jí poskytli příležitosti ku lepšímu vzdělání, než jakého\\nse jim dostalo. Těžké bylo loučení se zámkem, trapné s rodiči.\\nSlečna z Rokosů, velitelka v zámku, ještě den před od-\\njezdem Růženy sama a poprvé ve svém živobití prohlížela\\nveškeré jízdní náčiní, by se přesvědčila, bude-li jí možno častěji\\nzajeti do města ku své milované chráněnce.\\nA otec — umořil slzu v oku při myšlence, že ho nebude\\nvíce Růžena vítati při návratu z pole, shrnovati vlasy s jeho\\nčela a s důvěrou mu svěřovati, jakých prací za celý den\\nvykonala.\\nna stěhující se tam židy. V samotné Palestině proti\\nním dosud nemají ničeho, protože si kupují pozemky\\na začínají si hleděti rolnictví.\\nCar Alexandr III. přijal na památku svého\\notce titul gosudara turkestanského a nařídil, aby\\ndotýčný znak přivtělen byl úplnému říšskému erbu.\\nKníže černohorský nastoupil 24. srpna svoji\\ncestu do Petrohradu, k níž se původně až v polovici\\nzáří chystal. V jeho družině je ministr zahraničních\\nzáležitostí, vojvoda Stanko Radonič, ministr vnitra,\\nvojvoda Mašo Vrbica, okresní starosta ulcinský, voj-\\nvoda Simo Popovič a pobočník Sako Petrovič.\\nKníže černohorský stavěl se na své cestě ve\\nVídni a odjel odtud včera ráno do Petrohradu. Dne\\n31. srpna ráno přijal plukovníka Thömmela, rakou-\\nského ministr-residenta na Cetyni, a byl návštěvou\\nu arciknížete Albrechta.\\nZe zadní Indie došla zpráva do zahraničního\\núřadu londýnského, o vypuknutí povstání na Koree.\\nUčiněn útok na královský palác, jakož i na japon-\\nskou delegaci a zabiti král i královna a jistý v služ-\\nbách vládních na Koree se nalezající důstojník ja-\\nponský. Král rázně o to usiloval, aby připojil zem\\nk zahraničnímu obchodu a tím učinil sobě nepřátele\\nv řadách odpůrců připojení.\\nTéž mezi Hindy a mohamedány v Salemu,\\nprovinci madrasské, došlo k povážlivým náboženským\\nvýtržnostem. Hindové se dopustili ukrutnosti na mo-\\nhamedánech a 150 osob bylo zatčeno.\\nNapnutí mezi Francií a Německem opět roste.\\nSpolek německých turnéřů v Paříži, chtěl tyto dni\\npořádati velkoněmeckou slavnost, což však bylo mu\\npřekaženo. Podrážděnost vyvolána německými turnéry\\nnabývá ve Francii rozměrů větších, než pouhé ne-\\nvole proti demonstrativní velkoněmecké slavnosti\\nturnéřského spolku. Od turnéřů, jejichž záměr vláda\\npřekazila, přechází se k Prusku samému. Pařížské\\nlisty ironisují o Německu a na vzájem činí tak listy\\nněmecké o Francii. Když občanské strany se vyzý-\\nvají — může z toho vzejít cos dobrého?\\nI Turecko s Řeckem počíná povážlivou hru. Na\\nhranicích obou tekla již krev.\\nTu vcházel statkář s tváří vyjasněnou, veda sobě svou\\nmilovanou Růženu, jež se právě z mésta navrátila — na po-\\nsvátném místě měla poprvé opětně po čtyrech letech vstou-\\npiti mezi své spoluobčany. Slečna mohla na ní oči nechati.\\nOděv prostý ale čistý a vkusný zdobil ji lépe než nejdražší\\nhedbáv. Rusé kadeře vroubily milostný obličej, na jehož čele\\ndlela známka duševního míru, z jasněmodrých očí vyzírala\\nnejryzejší nevinnosť duše.\\nTak spanilou, tak něžnou a milou děvu nebyl dosud vi-\\nděl — tať by královskému trůnu ku ozdobě sloužila! . .\\nOdpoledne navštívila Růžena svou kmotru. Slečna chtěla\\nden opětného shledání učiniti jí milým a darovala Růženě\\ncyklus vybraných básní.\\n— Čtete ráda? — tázal se Jindřich nesměle.\\n— O dojista! — odpověděla lahodným hlasem a zar-\\nděla se.\\nA Jindřich usedl a předčítal dle tetina přání a co ne-\\nčetl nahlas to sobě odnášela Růžena ku čtení domů. Tak\\nplynula jim doba letních prázdnin v kruhu přátelském, ne-\\nnuceném.\\nJindřich byl se rozhodnul pro kněžský stav a očekával\\njen určitou zprávu, kdy bude vysvěcen. Jen jednou ještě chtěl\\na mohl se s Růženou setkati. Byl mocně rozechvěn a celé\\nhodiny ztrávil v myšlenkách, bloudě po polích a lesích.\\nKaždý kvítek mu připomínal její jméno, každé šelestění stromů\\nvyslovovalo je. Celá příroda dýchala jen pro ni.\\nCož musel navždy opustiti tu, v níž viděl jediný pramen\\nsvého štěstí?\\nřís\\nII\\n8\\nisa\\njím\\nand\\nbr\\nna\\nPolitický přehled.\\nch\\npsla\\na\\n*\\nByla neděle a zvonek jasným zvukem volal lidstvo ku\\nslovu Páně. Stará slečna vešla do kostelíka se sestřencem,\\nkterý byl právě studia na universitě ukončil, a usadila se\\nve starodávné lavici, v níž její předkové o bohoslužbách\\n*\\ndlívali.\\nSeděli opětně v tiché besídce. Teta podřimovala, Jindřich\\npředčítal . . . . a četl:\\n\"\"\""
   ]
  },
  {
   "cell_type": "markdown",
   "id": "9b090018-b8c1-45a8-8632-5583928b1ac4",
   "metadata": {
    "tags": []
   },
   "source": [
    "You can pass on Hugging Face parameters described in https://huggingface.co/docs/transformers/main_classes/text_generation#transformers.GenerationConfig to get different summaries.\n",
    "\n",
    "Running the cell below will generate summary:"
   ]
  },
  {
   "cell_type": "code",
   "execution_count": 3,
   "id": "8b26cd10-8242-4a01-9092-7aa3a720d1aa",
   "metadata": {
    "tags": []
   },
   "outputs": [
    {
     "name": "stderr",
     "output_type": "stream",
     "text": [
      "Setting `pad_token_id` to `eos_token_id`:2 for open-end generation.\n"
     ]
    },
    {
     "name": "stdout",
     "output_type": "stream",
     "text": [
      "V novém vydání týdenníku \"Posel od Čerchova\" z 2. září 1882 se objevují různorodé informace a příběhy. Zahrnují zprávy o vojenské reorganizaci, vývoji v Egyptě, anglické a indické vojenské akci, politických napětích mezi Francií a Německem, a také příběh o lásce mezi mladým knězem a slečnou, která se vyvinula v romantický vztah.\n"
     ]
    }
   ],
   "source": [
    "result = mistral_summarize_text(text, model=model, tokenizer=tokenizer)\n",
    "print(result)"
   ]
  }
 ],
 "metadata": {
  "kernelspec": {
   "display_name": "Python 3 (ipykernel)",
   "language": "python",
   "name": "python3"
  },
  "language_info": {
   "codemirror_mode": {
    "name": "ipython",
    "version": 3
   },
   "file_extension": ".py",
   "mimetype": "text/x-python",
   "name": "python",
   "nbconvert_exporter": "python",
   "pygments_lexer": "ipython3",
   "version": "3.11.7"
  }
 },
 "nbformat": 4,
 "nbformat_minor": 5
}
